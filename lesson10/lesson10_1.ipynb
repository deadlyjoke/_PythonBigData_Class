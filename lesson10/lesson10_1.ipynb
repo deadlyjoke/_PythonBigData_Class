{
 "cells": [
  {
   "cell_type": "markdown",
   "id": "47d929dc",
   "metadata": {},
   "source": [
    "https://www.perplexity.ai/search/3fe51208-8e87-4055-9e80-8c6114ac49d3"
   ]
  },
  {
   "cell_type": "code",
   "execution_count": null,
   "id": "0570a772",
   "metadata": {},
   "outputs": [],
   "source": [
    "import csv\n",
    "with open('個股日成交資訊.csv',encoding=\"utf-8\",newline='')as csvfile:\n",
    "     reader = csv.reader(csvfile)\n",
    "     for row in reader:\n",
    "          print (row)"
   ]
  },
  {
   "cell_type": "code",
   "execution_count": 4,
   "id": "fd339b0c",
   "metadata": {},
   "outputs": [
    {
     "data": {
      "text/plain": [
       "list"
      ]
     },
     "execution_count": 4,
     "metadata": {},
     "output_type": "execute_result"
    }
   ],
   "source": [
    "import csv\n",
    "with open('個股日成交資訊.csv',encoding=\"utf-8\",newline='')as csvfile:\n",
    "     reader = csv.reader(csvfile)\n",
    "     next(reader)\n",
    "     stacks:list[list] = list(reader)\n",
    "type(stacks)"
   ]
  },
  {
   "cell_type": "code",
   "execution_count": null,
   "id": "c3355ac4",
   "metadata": {},
   "outputs": [],
   "source": [
    "import csv\n",
    "with open('個股日成交資訊.csv',encoding=\"utf-8\",newline='')as csvfile:\n",
    "     reader = csv.reader(csvfile)\n",
    "     for row in reader:\n",
    "         print(row)"
   ]
  },
  {
   "cell_type": "code",
   "execution_count": null,
   "id": "a53ac761",
   "metadata": {},
   "outputs": [],
   "source": [
    "import csv\n",
    "with open('個股日成交資訊.csv',encoding='utf-8',newline='') as csvfile:\n",
    "    reader = csv.DictReader(csvfile)\n",
    "    stacks:list[dict] = list(reader)\n",
    "\n",
    "stacks"
   ]
  },
  {
   "cell_type": "code",
   "execution_count": 7,
   "id": "91b705f0",
   "metadata": {},
   "outputs": [
    {
     "name": "stdout",
     "output_type": "stream",
     "text": [
      "stacks 中共有 1113 筆資料。\n"
     ]
    }
   ],
   "source": [
    "import csv\n",
    "with open('個股日成交資訊.csv',encoding='utf-8',newline='') as csvfile:\n",
    "    reader = csv.DictReader(csvfile)\n",
    "    stacks:list[dict] = list(reader)\n",
    "\n",
    "   # 印出 stacks 串列中的資料筆數\n",
    "print(f\"stacks 中共有 {len(stacks)} 筆資料。\") "
   ]
  },
  {
   "cell_type": "markdown",
   "id": "e28c4bd7",
   "metadata": {},
   "source": [
    "https://www.perplexity.ai/search/e444a2ad-db91-4391-87be-a868c2f7c55f"
   ]
  },
  {
   "cell_type": "code",
   "execution_count": 6,
   "id": "29db1839",
   "metadata": {},
   "outputs": [
    {
     "data": {
      "text/html": [
       "<div>\n",
       "<style scoped>\n",
       "    .dataframe tbody tr th:only-of-type {\n",
       "        vertical-align: middle;\n",
       "    }\n",
       "\n",
       "    .dataframe tbody tr th {\n",
       "        vertical-align: top;\n",
       "    }\n",
       "\n",
       "    .dataframe thead th {\n",
       "        text-align: right;\n",
       "    }\n",
       "</style>\n",
       "<table border=\"1\" class=\"dataframe\">\n",
       "  <thead>\n",
       "    <tr style=\"text-align: right;\">\n",
       "      <th></th>\n",
       "      <th>0</th>\n",
       "      <th>1</th>\n",
       "      <th>2</th>\n",
       "      <th>3</th>\n",
       "      <th>4</th>\n",
       "      <th>5</th>\n",
       "      <th>6</th>\n",
       "      <th>7</th>\n",
       "      <th>8</th>\n",
       "      <th>9</th>\n",
       "    </tr>\n",
       "  </thead>\n",
       "  <tbody>\n",
       "    <tr>\n",
       "      <th>0</th>\n",
       "      <td>0050</td>\n",
       "      <td>元大台灣50</td>\n",
       "      <td>46,790,503</td>\n",
       "      <td>3,463,425,684</td>\n",
       "      <td>74.95</td>\n",
       "      <td>75.25</td>\n",
       "      <td>72.80</td>\n",
       "      <td>72.80</td>\n",
       "      <td>-2.05</td>\n",
       "      <td>23,021</td>\n",
       "    </tr>\n",
       "    <tr>\n",
       "      <th>1</th>\n",
       "      <td>0051</td>\n",
       "      <td>元大中型100</td>\n",
       "      <td>43,172</td>\n",
       "      <td>1,177,199</td>\n",
       "      <td>27.30</td>\n",
       "      <td>27.57</td>\n",
       "      <td>26.75</td>\n",
       "      <td>26.75</td>\n",
       "      <td>-0.52</td>\n",
       "      <td>45</td>\n",
       "    </tr>\n",
       "    <tr>\n",
       "      <th>2</th>\n",
       "      <td>0052</td>\n",
       "      <td>富邦科技</td>\n",
       "      <td>161,425</td>\n",
       "      <td>9,156,750</td>\n",
       "      <td>57.60</td>\n",
       "      <td>57.60</td>\n",
       "      <td>55.35</td>\n",
       "      <td>55.35</td>\n",
       "      <td>-2.35</td>\n",
       "      <td>67</td>\n",
       "    </tr>\n",
       "    <tr>\n",
       "      <th>3</th>\n",
       "      <td>0053</td>\n",
       "      <td>元大電子</td>\n",
       "      <td>35,076</td>\n",
       "      <td>1,163,448</td>\n",
       "      <td>33.36</td>\n",
       "      <td>33.61</td>\n",
       "      <td>32.56</td>\n",
       "      <td>32.69</td>\n",
       "      <td>-0.67</td>\n",
       "      <td>19</td>\n",
       "    </tr>\n",
       "    <tr>\n",
       "      <th>4</th>\n",
       "      <td>0054</td>\n",
       "      <td>元大台商50</td>\n",
       "      <td>27,028</td>\n",
       "      <td>507,569</td>\n",
       "      <td>18.80</td>\n",
       "      <td>19.00</td>\n",
       "      <td>18.64</td>\n",
       "      <td>18.64</td>\n",
       "      <td>-0.36</td>\n",
       "      <td>13</td>\n",
       "    </tr>\n",
       "  </tbody>\n",
       "</table>\n",
       "</div>"
      ],
      "text/plain": [
       "      0        1           2              3      4      5      6      7  \\\n",
       "0  0050   元大台灣50  46,790,503  3,463,425,684  74.95  75.25  72.80  72.80   \n",
       "1  0051  元大中型100      43,172      1,177,199  27.30  27.57  26.75  26.75   \n",
       "2  0052     富邦科技     161,425      9,156,750  57.60  57.60  55.35  55.35   \n",
       "3  0053     元大電子      35,076      1,163,448  33.36  33.61  32.56  32.69   \n",
       "4  0054   元大台商50      27,028        507,569  18.80  19.00  18.64  18.64   \n",
       "\n",
       "       8       9  \n",
       "0  -2.05  23,021  \n",
       "1  -0.52      45  \n",
       "2  -2.35      67  \n",
       "3  -0.67      19  \n",
       "4  -0.36      13  "
      ]
     },
     "execution_count": 6,
     "metadata": {},
     "output_type": "execute_result"
    }
   ],
   "source": [
    "import pandas as pd\n",
    "\n",
    "pd.DataFrame(stacks).head()"
   ]
  },
  {
   "cell_type": "code",
   "execution_count": 5,
   "id": "92ec6f6d",
   "metadata": {},
   "outputs": [],
   "source": [
    "import pandas as pd\n",
    "\n",
    "df1 = pd.DataFrame(stacks)\n",
    "df1.to_excel(\"個股日成交資訊.xlsx\",sheet_name='第一頁',index=False)"
   ]
  }
 ],
 "metadata": {
  "kernelspec": {
   "display_name": "myenv",
   "language": "python",
   "name": "python3"
  },
  "language_info": {
   "codemirror_mode": {
    "name": "ipython",
    "version": 3
   },
   "file_extension": ".py",
   "mimetype": "text/x-python",
   "name": "python",
   "nbconvert_exporter": "python",
   "pygments_lexer": "ipython3",
   "version": "3.10.16"
  }
 },
 "nbformat": 4,
 "nbformat_minor": 5
}
