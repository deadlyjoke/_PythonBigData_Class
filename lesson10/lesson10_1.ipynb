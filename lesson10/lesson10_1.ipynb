{
 "cells": [
  {
   "cell_type": "code",
   "execution_count": null,
   "id": "0570a772",
   "metadata": {},
   "outputs": [],
   "source": [
    "import csv\n",
    "with open('個股日成交資訊.csv',encoding=\"utf-8\",newline='')as csvfile:\n",
    "     reader = csv.reader(csvfile)\n",
    "     for row in reader:\n",
    "          print (row)"
   ]
  },
  {
   "cell_type": "code",
   "execution_count": null,
   "id": "fd339b0c",
   "metadata": {},
   "outputs": [],
   "source": [
    "import csv\n",
    "with open('個股日成交資訊.csv',encoding=\"utf-8\",newline='')as csvfile:\n",
    "     reader = csv.reader(csvfile)\n",
    "     next(reader)\n",
    "     stacks:list[list] = list(reader)\n",
    "stacks"
   ]
  },
  {
   "cell_type": "code",
   "execution_count": null,
   "id": "c3355ac4",
   "metadata": {},
   "outputs": [],
   "source": [
    "import csv\n",
    "with open('個股日成交資訊.csv',encoding=\"utf-8\",newline='')as csvfile:\n",
    "     reader = csv.reader(csvfile)\n",
    "     for row in reader:\n",
    "         print(row)"
   ]
  },
  {
   "cell_type": "code",
   "execution_count": null,
   "id": "a53ac761",
   "metadata": {},
   "outputs": [],
   "source": [
    "import csv\n",
    "with open('個股日成交資訊.csv',encoding='utf-8',newline='') as csvfile:\n",
    "    reader = csv.DictReader(csvfile)\n",
    "    stacks:list[dict] = list(reader)\n",
    "\n",
    "stacks"
   ]
  },
  {
   "cell_type": "code",
   "execution_count": 7,
   "id": "91b705f0",
   "metadata": {},
   "outputs": [
    {
     "name": "stdout",
     "output_type": "stream",
     "text": [
      "stacks 中共有 1113 筆資料。\n"
     ]
    }
   ],
   "source": [
    "import csv\n",
    "with open('個股日成交資訊.csv',encoding='utf-8',newline='') as csvfile:\n",
    "    reader = csv.DictReader(csvfile)\n",
    "    stacks:list[dict] = list(reader)\n",
    "\n",
    "   # 印出 stacks 串列中的資料筆數\n",
    "print(f\"stacks 中共有 {len(stacks)} 筆資料。\") "
   ]
  }
 ],
 "metadata": {
  "kernelspec": {
   "display_name": "myenv",
   "language": "python",
   "name": "python3"
  },
  "language_info": {
   "codemirror_mode": {
    "name": "ipython",
    "version": 3
   },
   "file_extension": ".py",
   "mimetype": "text/x-python",
   "name": "python",
   "nbconvert_exporter": "python",
   "pygments_lexer": "ipython3",
   "version": "3.10.16"
  }
 },
 "nbformat": 4,
 "nbformat_minor": 5
}
