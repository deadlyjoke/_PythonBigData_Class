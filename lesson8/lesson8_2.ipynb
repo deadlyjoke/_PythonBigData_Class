{
 "cells": [
  {
   "cell_type": "code",
   "execution_count": 1,
   "id": "58666a90",
   "metadata": {},
   "outputs": [],
   "source": [
    "def menu(wine:str, entree:str, dessert:str) -> None:\n",
    "    print(f\"前酒: {wine}\")\n",
    "    print(f\"主餐: {entree}\")\n",
    "    print(f\"甜点: {dessert}\")"
   ]
  },
  {
   "cell_type": "markdown",
   "id": "53f87e1d",
   "metadata": {},
   "source": [
    "### 引述值的呼叫\n",
    "- 要依照參數的順序"
   ]
  },
  {
   "cell_type": "code",
   "execution_count": 3,
   "id": "8597d99f",
   "metadata": {},
   "outputs": [
    {
     "name": "stdout",
     "output_type": "stream",
     "text": [
      "前酒: 红酒\n",
      "主餐: 牛排\n",
      "甜点: 布朗尼\n"
     ]
    }
   ],
   "source": [
    "menu(\"红酒\", \"牛排\", \"布朗尼\")"
   ]
  },
  {
   "cell_type": "markdown",
   "id": "ea41c10e",
   "metadata": {},
   "source": [
    "### 引述名稱的呼叫\n",
    "- 可以不依照順序"
   ]
  },
  {
   "cell_type": "code",
   "execution_count": 4,
   "id": "0a851e7e",
   "metadata": {},
   "outputs": [
    {
     "name": "stdout",
     "output_type": "stream",
     "text": [
      "前酒: 紅酒\n",
      "主餐: 牛排\n",
      "甜点: 布朗尼\n"
     ]
    }
   ],
   "source": [
    "menu(entree=\"牛排\", dessert=\"布朗尼\",wine=\"紅酒\",)"
   ]
  },
  {
   "cell_type": "markdown",
   "id": "d8871073",
   "metadata": {},
   "source": [
    "### 混合呼叫\n",
    "- 前面使用引數值的呼叫\n",
    "- 後面使用引數名稱的呼叫\n",
    "- 引數名稱後,全部都要用引數名稱"
   ]
  },
  {
   "cell_type": "code",
   "execution_count": 5,
   "id": "1b7f927a",
   "metadata": {},
   "outputs": [
    {
     "name": "stdout",
     "output_type": "stream",
     "text": [
      "前酒: 紅酒\n",
      "主餐: 牛排\n",
      "甜点: 布朗尼\n"
     ]
    }
   ],
   "source": [
    "menu(\"紅酒\",dessert=\"布朗尼\",entree=\"牛排\")"
   ]
  },
  {
   "cell_type": "markdown",
   "id": "9ac35362",
   "metadata": {},
   "source": [
    "### 定義的function參數,可以有預設值\n",
    "- 預設值一定放在最後"
   ]
  },
  {
   "cell_type": "code",
   "execution_count": 7,
   "id": "bfa82076",
   "metadata": {},
   "outputs": [],
   "source": [
    "def menu(wine:str, entree:str, dessert:str=\"奶昔\") -> None:\n",
    "    print(f\"前酒: {wine}\")\n",
    "    print(f\"主餐: {entree}\")\n",
    "    print(f\"甜点: {dessert}\")"
   ]
  },
  {
   "cell_type": "markdown",
   "id": "c48bc716",
   "metadata": {},
   "source": [
    "### 呼叫時,有預設值的參數,可以省略引數值"
   ]
  },
  {
   "cell_type": "code",
   "execution_count": 8,
   "id": "183edd2a",
   "metadata": {},
   "outputs": [
    {
     "name": "stdout",
     "output_type": "stream",
     "text": [
      "前酒: 紅酒\n",
      "主餐: 牛排\n",
      "甜点: 奶昔\n"
     ]
    }
   ],
   "source": [
    "menu(\"紅酒\",\"牛排\")"
   ]
  },
  {
   "cell_type": "code",
   "execution_count": 9,
   "id": "2a124037",
   "metadata": {},
   "outputs": [
    {
     "name": "stdout",
     "output_type": "stream",
     "text": [
      "前酒: 白酒\n",
      "主餐: 牛排\n",
      "甜点: 蛋糕\n"
     ]
    }
   ],
   "source": [
    "menu('白酒','牛排',dessert=\"蛋糕\")"
   ]
  },
  {
   "cell_type": "code",
   "execution_count": 10,
   "id": "bef469bf",
   "metadata": {},
   "outputs": [],
   "source": [
    "def menu(wine:str,entree:str='羊排',dessert:str='奶昔')->None:\n",
    "    print(f\"前酒:{wine}\")\n",
    "    print(f\"主餐:{entree}\")\n",
    "    print(f\"甜點:{dessert}\")"
   ]
  },
  {
   "cell_type": "code",
   "execution_count": 11,
   "id": "d683f151",
   "metadata": {},
   "outputs": [
    {
     "name": "stdout",
     "output_type": "stream",
     "text": [
      "前酒:紅酒\n",
      "主餐:羊排\n",
      "甜點:奶昔\n"
     ]
    }
   ],
   "source": [
    "menu(\"紅酒\")"
   ]
  },
  {
   "cell_type": "code",
   "execution_count": 12,
   "id": "508abc86",
   "metadata": {},
   "outputs": [
    {
     "name": "stdout",
     "output_type": "stream",
     "text": [
      "前酒:紅酒\n",
      "主餐:羊排\n",
      "甜點:布朗尼\n"
     ]
    }
   ],
   "source": [
    "menu(\"紅酒\",dessert=\"布朗尼\")"
   ]
  }
 ],
 "metadata": {
  "kernelspec": {
   "display_name": "myenv",
   "language": "python",
   "name": "python3"
  },
  "language_info": {
   "codemirror_mode": {
    "name": "ipython",
    "version": 3
   },
   "file_extension": ".py",
   "mimetype": "text/x-python",
   "name": "python",
   "nbconvert_exporter": "python",
   "pygments_lexer": "ipython3",
   "version": "3.10.16"
  }
 },
 "nbformat": 4,
 "nbformat_minor": 5
}
