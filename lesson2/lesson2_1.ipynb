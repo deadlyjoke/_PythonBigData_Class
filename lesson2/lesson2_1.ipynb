{
  "nbformat": 4,
  "nbformat_minor": 0,
  "metadata": {
    "colab": {
      "provenance": [],
      "authorship_tag": "ABX9TyP3ayQviUFVNN8ynPoEYreM",
      "include_colab_link": true
    },
    "kernelspec": {
      "name": "python3",
      "display_name": "Python 3"
    },
    "language_info": {
      "name": "python"
    }
  },
  "cells": [
    {
      "cell_type": "markdown",
      "metadata": {
        "id": "view-in-github",
        "colab_type": "text"
      },
      "source": [
        "<a href=\"https://colab.research.google.com/github/deadlyjoke/_PythonBigData_Class/blob/main/lesson2/lesson2_1.ipynb\" target=\"_parent\"><img src=\"https://colab.research.google.com/assets/colab-badge.svg\" alt=\"Open In Colab\"/></a>"
      ]
    },
    {
      "cell_type": "code",
      "source": [
        "2+3*4"
      ],
      "metadata": {
        "id": "3FaON-kbueNc",
        "outputId": "72e21f97-2bbb-4d7e-b86f-60daa319f7c8",
        "colab": {
          "base_uri": "https://localhost:8080/"
        }
      },
      "execution_count": null,
      "outputs": [
        {
          "output_type": "execute_result",
          "data": {
            "text/plain": [
              "14"
            ]
          },
          "metadata": {},
          "execution_count": 2
        }
      ]
    },
    {
      "cell_type": "code",
      "source": [
        "(2+3)*4"
      ],
      "metadata": {
        "id": "-ePGttCLutjj",
        "outputId": "66a39c57-5858-45c3-8a71-b60a7276b308",
        "colab": {
          "base_uri": "https://localhost:8080/"
        }
      },
      "execution_count": null,
      "outputs": [
        {
          "output_type": "execute_result",
          "data": {
            "text/plain": [
              "20"
            ]
          },
          "metadata": {},
          "execution_count": 3
        }
      ]
    },
    {
      "cell_type": "code",
      "execution_count": null,
      "metadata": {
        "id": "AYBqV0SDt5AT",
        "outputId": "a28050b0-451d-4bfc-d4d5-42396ba85211",
        "colab": {
          "base_uri": "https://localhost:8080/"
        }
      },
      "outputs": [
        {
          "output_type": "execute_result",
          "data": {
            "text/plain": [
              "10"
            ]
          },
          "metadata": {},
          "execution_count": 4
        }
      ],
      "source": [
        "2*(1+2)**2-2**2*2"
      ]
    },
    {
      "cell_type": "markdown",
      "source": [
        "####(*=) 複合指定運算子"
      ],
      "metadata": {
        "id": "Lay8aqn3OPDm"
      }
    },
    {
      "cell_type": "code",
      "source": [
        "n = 2*(1+2)**2-2**2*2\n",
        "n*=10\n",
        "n"
      ],
      "metadata": {
        "id": "WXe2wE3Cz8_5",
        "outputId": "193918cd-7759-4787-872c-c663292ced13",
        "colab": {
          "base_uri": "https://localhost:8080/"
        }
      },
      "execution_count": null,
      "outputs": [
        {
          "output_type": "execute_result",
          "data": {
            "text/plain": [
              "100"
            ]
          },
          "metadata": {},
          "execution_count": 6
        }
      ]
    },
    {
      "cell_type": "code",
      "source": [
        "name=input(\"Please input your name:\")\n",
        "print(\"Your name:\",name)"
      ],
      "metadata": {
        "id": "wURV6x-E9Qz-",
        "outputId": "c94352e9-0a51-4152-9f0b-7f0ee93ad435",
        "colab": {
          "base_uri": "https://localhost:8080/"
        }
      },
      "execution_count": null,
      "outputs": [
        {
          "output_type": "stream",
          "name": "stdout",
          "text": [
            "Please input your name:Massi\n",
            "Your name: Massi\n"
          ]
        }
      ]
    },
    {
      "cell_type": "markdown",
      "source": [
        "#### python是動態型別"
      ],
      "metadata": {
        "id": "XONrWjAUDsWu"
      }
    },
    {
      "cell_type": "code",
      "source": [
        "name=input(\"Please input your name:\")\n",
        "type(name)"
      ],
      "metadata": {
        "id": "GSHM18kLDzlM",
        "outputId": "36c1beb2-d054-434b-cf38-754e5d1afead",
        "colab": {
          "base_uri": "https://localhost:8080/"
        }
      },
      "execution_count": null,
      "outputs": [
        {
          "name": "stdout",
          "output_type": "stream",
          "text": [
            "Please input your name:Massi\n"
          ]
        },
        {
          "output_type": "execute_result",
          "data": {
            "text/plain": [
              "str"
            ]
          },
          "metadata": {},
          "execution_count": 9
        }
      ]
    }
  ]
}