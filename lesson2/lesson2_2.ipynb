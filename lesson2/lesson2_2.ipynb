{
  "nbformat": 4,
  "nbformat_minor": 0,
  "metadata": {
    "colab": {
      "provenance": [],
      "authorship_tag": "ABX9TyN3UEDQ//f6nC0jx8gu/J24",
      "include_colab_link": true
    },
    "kernelspec": {
      "name": "python3",
      "display_name": "Python 3"
    },
    "language_info": {
      "name": "python"
    }
  },
  "cells": [
    {
      "cell_type": "markdown",
      "metadata": {
        "id": "view-in-github",
        "colab_type": "text"
      },
      "source": [
        "<a href=\"https://colab.research.google.com/github/deadlyjoke/_PythonBigData_Class/blob/main/lesson2/lesson2_2.ipynb\" target=\"_parent\"><img src=\"https://colab.research.google.com/assets/colab-badge.svg\" alt=\"Open In Colab\"/></a>"
      ]
    },
    {
      "cell_type": "code",
      "execution_count": null,
      "metadata": {
        "id": "klMdOr5sGVIz",
        "colab": {
          "base_uri": "https://localhost:8080/"
        },
        "outputId": "8d966669-57c9-4f74-d2bd-ff91ac3c3bcb"
      },
      "outputs": [
        {
          "output_type": "stream",
          "name": "stdout",
          "text": [
            "Please input your width:5.367\n",
            "Please input your hight:4.0123\n",
            "The area of your rectangle is: 21.5340141\n"
          ]
        }
      ],
      "source": [
        "width=float(input(\"Please input your width:\"))\n",
        "hight=float(input(\"Please input your hight:\"))\n",
        "area=width*hight\n",
        "print(\"The area of your rectangle is:\",area)"
      ]
    },
    {
      "cell_type": "code",
      "source": [
        "import math\n",
        "\n",
        "side=float(input(\"Please input your side:\"))\n",
        "anotherside=float(input(\"Please input your anotherside\"))\n",
        "answer=math.sqrt(side**2+anotherside**2)\n",
        "print(\"The Hypotenuse is:\",answer)"
      ],
      "metadata": {
        "id": "bPU0yu3MLxob",
        "outputId": "c78962c8-c31f-4ca2-9144-bf2bd475beac",
        "colab": {
          "base_uri": "https://localhost:8080/"
        }
      },
      "execution_count": 2,
      "outputs": [
        {
          "output_type": "stream",
          "name": "stdout",
          "text": [
            "Please input your side:25\n",
            "Please input your anotherside19\n",
            "The Hypotenuse is: 31.400636936215164\n"
          ]
        }
      ]
    }
  ]
}