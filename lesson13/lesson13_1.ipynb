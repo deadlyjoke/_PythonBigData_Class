{
 "cells": [
  {
   "cell_type": "markdown",
   "id": "c4e0a6a4",
   "metadata": {},
   "source": [
    "https://www.perplexity.ai/search/045ecda7-23bf-4d76-9155-fcb886e2425e"
   ]
  },
  {
   "cell_type": "code",
   "execution_count": 1,
   "id": "5b367106",
   "metadata": {},
   "outputs": [
    {
     "data": {
      "text/plain": [
       "array([[0.91233092, 0.05461806, 0.46852974, 0.2745661 ],\n",
       "       [0.45780857, 0.2494766 , 0.9058563 , 0.54418391],\n",
       "       [0.90761004, 0.76599693, 0.9579623 , 0.04484562]])"
      ]
     },
     "execution_count": 1,
     "metadata": {},
     "output_type": "execute_result"
    }
   ],
   "source": [
    "import numpy as np \n",
    "np.random.random()\n",
    "np.random.random(3)\n",
    "np.random.random(size=3)\n",
    "np.random.random((3,4))\n",
    "np.random.random(size=(3,4))"
   ]
  },
  {
   "cell_type": "code",
   "execution_count": 3,
   "id": "dee4a10c",
   "metadata": {},
   "outputs": [
    {
     "data": {
      "text/plain": [
       "dtype('float64')"
      ]
     },
     "execution_count": 3,
     "metadata": {},
     "output_type": "execute_result"
    }
   ],
   "source": [
    "from numpy.random import normal\n",
    "\n",
    "normal_value = normal(size=(3,4))\n",
    "#ndarray常用的實體屬性\n",
    "type(normal_value)\n",
    "normal_value.ndim\n",
    "normal_value.size\n",
    "normal_value.shape\n",
    "normal_value.dtype\n"
   ]
  },
  {
   "cell_type": "code",
   "execution_count": 4,
   "id": "17109fec",
   "metadata": {},
   "outputs": [
    {
     "data": {
      "text/plain": [
       "array([[-0.44849482, -1.72333302,  4.34986713, -5.05755783],\n",
       "       [-7.61802427,  8.96614409, 11.42284404,  2.47220304],\n",
       "       [-3.20526185, -2.68677762, -0.35236787, -0.83142169]])"
      ]
     },
     "execution_count": 4,
     "metadata": {},
     "output_type": "execute_result"
    }
   ],
   "source": [
    "#ndarray,陣列運算\n",
    "normal_value * 10"
   ]
  },
  {
   "cell_type": "code",
   "execution_count": 5,
   "id": "962c63f6",
   "metadata": {},
   "outputs": [
    {
     "data": {
      "text/plain": [
       "array([-0.28795185,  1.52431669, -0.7075829 ])"
      ]
     },
     "execution_count": 5,
     "metadata": {},
     "output_type": "execute_result"
    }
   ],
   "source": [
    "#ndarray,的統計\n",
    "normal_value.sum()\n",
    "normal_value.sum(axis=0)\n",
    "normal_value.sum(axis=1)"
   ]
  }
 ],
 "metadata": {
  "kernelspec": {
   "display_name": "myenv",
   "language": "python",
   "name": "python3"
  },
  "language_info": {
   "codemirror_mode": {
    "name": "ipython",
    "version": 3
   },
   "file_extension": ".py",
   "mimetype": "text/x-python",
   "name": "python",
   "nbconvert_exporter": "python",
   "pygments_lexer": "ipython3",
   "version": "3.10.16"
  }
 },
 "nbformat": 4,
 "nbformat_minor": 5
}
