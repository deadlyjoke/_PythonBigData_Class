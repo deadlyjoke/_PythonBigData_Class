{
  "nbformat": 4,
  "nbformat_minor": 0,
  "metadata": {
    "colab": {
      "provenance": [],
      "authorship_tag": "ABX9TyOGTkwIKlZhFVIBWqsXf91a",
      "include_colab_link": true
    },
    "kernelspec": {
      "name": "python3",
      "display_name": "Python 3"
    },
    "language_info": {
      "name": "python"
    }
  },
  "cells": [
    {
      "cell_type": "markdown",
      "metadata": {
        "id": "view-in-github",
        "colab_type": "text"
      },
      "source": [
        "<a href=\"https://colab.research.google.com/github/deadlyjoke/_PythonBigData_Class/blob/main/lesson3/lesson3_3.ipynb\" target=\"_parent\"><img src=\"https://colab.research.google.com/assets/colab-badge.svg\" alt=\"Open In Colab\"/></a>"
      ]
    },
    {
      "cell_type": "markdown",
      "source": [
        "python for迴圈的說明\n",
        "___\n",
        "Python 中的 for 迴圈是一種用來遍歷（迭代）集合中每個元素的控制結構，常用於對清單、字串、元組、字典、集合等可迭代物件進行重複操作。其基本語法如下：\n",
        "\n",
        "for 變數 in 集合:\n",
        "    # 迴圈內要執行的程式碼\n",
        "    "
      ],
      "metadata": {
        "id": "g3suaufUV1XG"
      }
    },
    {
      "cell_type": "markdown",
      "source": [
        "1+2+3+...+100"
      ],
      "metadata": {
        "id": "JztR2kRasnNr"
      }
    },
    {
      "cell_type": "code",
      "execution_count": null,
      "metadata": {
        "id": "9qH6BYu2VkwT",
        "outputId": "06bfa34d-630e-4e29-9dbc-bd04d457c1ba",
        "colab": {
          "base_uri": "https://localhost:8080/"
        }
      },
      "outputs": [
        {
          "output_type": "execute_result",
          "data": {
            "text/plain": [
              "5050"
            ]
          },
          "metadata": {},
          "execution_count": 1
        }
      ],
      "source": [
        "x=0\n",
        "for n in range(1,101):\n",
        "  x+=n\n",
        "x"
      ]
    }
  ]
}