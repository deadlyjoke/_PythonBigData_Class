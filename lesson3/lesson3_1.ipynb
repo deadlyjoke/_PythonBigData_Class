{
  "nbformat": 4,
  "nbformat_minor": 0,
  "metadata": {
    "colab": {
      "provenance": [],
      "authorship_tag": "ABX9TyNWkoP70ioWvqQO/sw9XsvC",
      "include_colab_link": true
    },
    "kernelspec": {
      "name": "python3",
      "display_name": "Python 3"
    },
    "language_info": {
      "name": "python"
    }
  },
  "cells": [
    {
      "cell_type": "markdown",
      "metadata": {
        "id": "view-in-github",
        "colab_type": "text"
      },
      "source": [
        "<a href=\"https://colab.research.google.com/github/deadlyjoke/_PythonBigData_Class/blob/main/lesson3/lesson3_1.ipynb\" target=\"_parent\"><img src=\"https://colab.research.google.com/assets/colab-badge.svg\" alt=\"Open In Colab\"/></a>"
      ]
    },
    {
      "cell_type": "markdown",
      "source": [
        "#python判斷"
      ],
      "metadata": {
        "id": "Kn3wz9Xk0pVV"
      }
    },
    {
      "cell_type": "markdown",
      "source": [
        "###python的條件式\n",
        "####python的比較運算子"
      ],
      "metadata": {
        "id": "Kgu8SgPh1dnd"
      }
    },
    {
      "cell_type": "markdown",
      "source": [
        "Python 的比較運算子用來比較兩個值，並回傳布林值（True 或 False）。\n",
        "Python 支援以下主要的比較運算子：\n",
        "\n",
        "- < ：小於\n",
        "- <= ：小於等於\n",
        "- > ：大於\n",
        "- >= ：大於等於\n",
        "- == ：等於\n",
        "- != ：不等於\n",
        "- is ：判斷兩個物件是否為同一個物件（物件識別）\n",
        "- is not ：判斷兩個物件是否不是同一個物件"
      ],
      "metadata": {
        "id": "RacbyOUY4eMP"
      }
    },
    {
      "cell_type": "code",
      "execution_count": null,
      "metadata": {
        "id": "szxcBaRh0TZw",
        "outputId": "e531ad74-8d13-42d2-edf8-d4855e93794d",
        "colab": {
          "base_uri": "https://localhost:8080/"
        }
      },
      "outputs": [
        {
          "output_type": "stream",
          "name": "stderr",
          "text": [
            "<>:3: SyntaxWarning: \"is\" with a literal. Did you mean \"==\"?\n",
            "<>:4: SyntaxWarning: \"is not\" with a literal. Did you mean \"!=\"?\n",
            "<>:3: SyntaxWarning: \"is\" with a literal. Did you mean \"==\"?\n",
            "<>:4: SyntaxWarning: \"is not\" with a literal. Did you mean \"!=\"?\n",
            "<ipython-input-3-4ebd421497a6>:3: SyntaxWarning: \"is\" with a literal. Did you mean \"==\"?\n",
            "  5 is 5.0\n",
            "<ipython-input-3-4ebd421497a6>:4: SyntaxWarning: \"is not\" with a literal. Did you mean \"!=\"?\n",
            "  5 is not 5.0\n"
          ]
        },
        {
          "output_type": "execute_result",
          "data": {
            "text/plain": [
              "True"
            ]
          },
          "metadata": {},
          "execution_count": 3
        }
      ],
      "source": [
        "5 == 5\n",
        "5 != 5\n",
        "5 is 5.0\n",
        "5 is not 5.0"
      ]
    },
    {
      "cell_type": "code",
      "source": [
        "#單項選擇\n",
        "scores = 60\n",
        "if scores < 60:\n",
        "  print(\"不及格\")\n",
        "print(\"應用程式結束了\")"
      ],
      "metadata": {
        "id": "u6SepDg28TeO",
        "outputId": "f6da68d6-1ac6-42b8-ef42-0568fd6825ed",
        "colab": {
          "base_uri": "https://localhost:8080/"
        }
      },
      "execution_count": null,
      "outputs": [
        {
          "output_type": "stream",
          "name": "stdout",
          "text": [
            "應用程式結束了\n"
          ]
        }
      ]
    },
    {
      "cell_type": "code",
      "source": [
        "#雙向選擇\n",
        "scores = 60\n",
        "if scores >= 60:\n",
        "  print(\"及格\")\n",
        "else:\n",
        "  print(\"不及格\")"
      ],
      "metadata": {
        "id": "tfiPm7ed9MEk",
        "outputId": "f8e5b7e3-fc2b-4bb0-dd02-5dbffc7e5eff",
        "colab": {
          "base_uri": "https://localhost:8080/"
        }
      },
      "execution_count": null,
      "outputs": [
        {
          "output_type": "stream",
          "name": "stdout",
          "text": [
            "及格\n"
          ]
        }
      ]
    },
    {
      "cell_type": "code",
      "source": [
        "#多向選擇\n",
        "scores = 30\n",
        "if scores >= 80:\n",
        "  print(\"優\")\n",
        "elif scores >= 60:\n",
        "  print(\"甲\")\n",
        "else:\n",
        "  print(\"不及格\")\n"
      ],
      "metadata": {
        "id": "7GHUdaHvCpVH",
        "outputId": "2e82c878-bb18-4f6f-d1d2-edc91dc0ffad",
        "colab": {
          "base_uri": "https://localhost:8080/"
        }
      },
      "execution_count": 9,
      "outputs": [
        {
          "output_type": "stream",
          "name": "stdout",
          "text": [
            "不及格\n"
          ]
        }
      ]
    },
    {
      "cell_type": "code",
      "source": [
        "#巢狀結構\n",
        "scores = 59\n",
        "if scores >= 80:\n",
        "  print(\"優\")\n",
        "else:\n",
        "  if scores >= 60:\n",
        "    print(\"甲\")\n",
        "  else:\n",
        "    print(\"不及格\")"
      ],
      "metadata": {
        "id": "OF9FVgMNDrWG",
        "outputId": "cff7036d-ffec-493d-d9ac-1fb9c8158168",
        "colab": {
          "base_uri": "https://localhost:8080/"
        }
      },
      "execution_count": 10,
      "outputs": [
        {
          "output_type": "stream",
          "name": "stdout",
          "text": [
            "不及格\n"
          ]
        }
      ]
    }
  ]
}