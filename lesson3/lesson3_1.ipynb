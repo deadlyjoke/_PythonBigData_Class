{
  "nbformat": 4,
  "nbformat_minor": 0,
  "metadata": {
    "colab": {
      "provenance": [],
      "authorship_tag": "ABX9TyMfsmUeLs1KQF5TtMX8Hooc",
      "include_colab_link": true
    },
    "kernelspec": {
      "name": "python3",
      "display_name": "Python 3"
    },
    "language_info": {
      "name": "python"
    }
  },
  "cells": [
    {
      "cell_type": "markdown",
      "metadata": {
        "id": "view-in-github",
        "colab_type": "text"
      },
      "source": [
        "<a href=\"https://colab.research.google.com/github/deadlyjoke/_PythonBigData_Class/blob/main/lesson3/lesson3_1.ipynb\" target=\"_parent\"><img src=\"https://colab.research.google.com/assets/colab-badge.svg\" alt=\"Open In Colab\"/></a>"
      ]
    },
    {
      "cell_type": "markdown",
      "source": [
        "#python判斷"
      ],
      "metadata": {
        "id": "Kn3wz9Xk0pVV"
      }
    },
    {
      "cell_type": "markdown",
      "source": [
        "###python的條件式\n",
        "####python的比較運算子"
      ],
      "metadata": {
        "id": "Kgu8SgPh1dnd"
      }
    },
    {
      "cell_type": "markdown",
      "source": [
        "Python 的比較運算子用來比較兩個值，並回傳布林值（True 或 False）。\n",
        "Python 支援以下主要的比較運算子：\n",
        "\n",
        "- < ：小於\n",
        "- <= ：小於等於\n",
        "- > ：大於\n",
        "- >= ：大於等於\n",
        "- == ：等於\n",
        "- != ：不等於\n",
        "- is ：判斷兩個物件是否為同一個物件（物件識別）\n",
        "- is not ：判斷兩個物件是否不是同一個物件"
      ],
      "metadata": {
        "id": "RacbyOUY4eMP"
      }
    },
    {
      "cell_type": "code",
      "execution_count": null,
      "metadata": {
        "id": "szxcBaRh0TZw"
      },
      "outputs": [],
      "source": []
    }
  ]
}