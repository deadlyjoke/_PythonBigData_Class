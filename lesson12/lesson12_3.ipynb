{
 "cells": [
  {
   "cell_type": "markdown",
   "id": "aaf36cde",
   "metadata": {},
   "source": [
    "https://www.perplexity.ai/search/7577a09f-12ec-4855-a9c8-aebb71204177"
   ]
  },
  {
   "cell_type": "code",
   "execution_count": null,
   "id": "cbea4059",
   "metadata": {},
   "outputs": [],
   "source": [
    "#常態分佈(高斯分佈)\n",
    "import numpy as np \n",
    "from numpy import ndarray\n",
    "import matplotlib.pyplot as plt \n",
    "from scipy.stats import norm # 用於計算常態分佈的PDF\n",
    "normal_ditribu\n",
    "\n"
   ]
  }
 ],
 "metadata": {
  "kernelspec": {
   "display_name": "myenv",
   "language": "python",
   "name": "python3"
  },
  "language_info": {
   "codemirror_mode": {
    "name": "ipython",
    "version": 3
   },
   "file_extension": ".py",
   "mimetype": "text/x-python",
   "name": "python",
   "nbconvert_exporter": "python",
   "pygments_lexer": "ipython3",
   "version": "3.10.16"
  }
 },
 "nbformat": 4,
 "nbformat_minor": 5
}
