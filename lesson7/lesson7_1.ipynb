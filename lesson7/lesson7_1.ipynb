{
 "cells": [
  {
   "cell_type": "code",
   "execution_count": 1,
   "id": "a12a5019",
   "metadata": {},
   "outputs": [
    {
     "name": "stdout",
     "output_type": "stream",
     "text": [
      "19.159827275586945\n",
      "Normal weight\n"
     ]
    }
   ],
   "source": [
    "def cauculate_bmi(h:int, w:int)->float:\n",
    "    return w / ((h / 100) ** 2)\n",
    "# BMI Calculator\n",
    "# This program calculates the Body Mass Index (BMI) based on user input for height and weight.\n",
    "def get_state(b:float)->str:\n",
    "    if b < 18.5:\n",
    "        return \"Underweight\"\n",
    "    elif b < 24:\n",
    "        return \"Normal weight\"\n",
    "    elif b < 27:\n",
    "        return \"Overweight\"\n",
    "    elif b < 30:\n",
    "        return \"Obesity I\"\n",
    "    elif b < 35:\n",
    "        return \"Obesity II\"\n",
    "    else:\n",
    "        return \"Obesity III\"\n",
    "height:int = int(input(\"Enter your height in cm: \"))\n",
    "weight:int = int(input(\"Enter your weight in kg: \"))\n",
    "\n",
    "bmi = cauculate_bmi(height, weight)\n",
    "print(bmi)\n",
    "print(get_state(bmi))\n",
    "# BMI Categories\n"
   ]
  },
  {
   "cell_type": "code",
   "execution_count": 2,
   "id": "05964d6f",
   "metadata": {},
   "outputs": [
    {
     "data": {
      "text/plain": [
       "{'__name__': '__main__',\n",
       " '__doc__': 'Automatically created module for IPython interactive environment',\n",
       " '__package__': None,\n",
       " '__loader__': None,\n",
       " '__spec__': None,\n",
       " '__builtin__': <module 'builtins' (built-in)>,\n",
       " '__builtins__': <module 'builtins' (built-in)>,\n",
       " '_ih': ['',\n",
       "  'def cauculate_bmi(h:int, w:int)->float:\\n    return w / ((h / 100) ** 2)\\n# BMI Calculator\\n# This program calculates the Body Mass Index (BMI) based on user input for height and weight.\\ndef get_state(b:float)->str:\\n    if b < 18.5:\\n        return \"Underweight\"\\n    elif b < 24:\\n        return \"Normal weight\"\\n    elif b < 27:\\n        return \"Overweight\"\\n    elif b < 30:\\n        return \"Obesity I\"\\n    elif b < 35:\\n        return \"Obesity II\"\\n    else:\\n        return \"Obesity III\"\\nheight:int = int(input(\"Enter your height in cm: \"))\\nweight:int = int(input(\"Enter your weight in kg: \"))\\n\\nbmi = cauculate_bmi(height, weight)\\nprint(bmi)\\nprint(get_state(bmi))\\n# BMI Categories',\n",
       "  'vars()'],\n",
       " '_oh': {},\n",
       " '_dh': [WindowsPath('c:/Users/USER/OneDrive/文件/github/_PythonBigData_Class/lesson7')],\n",
       " 'In': ['',\n",
       "  'def cauculate_bmi(h:int, w:int)->float:\\n    return w / ((h / 100) ** 2)\\n# BMI Calculator\\n# This program calculates the Body Mass Index (BMI) based on user input for height and weight.\\ndef get_state(b:float)->str:\\n    if b < 18.5:\\n        return \"Underweight\"\\n    elif b < 24:\\n        return \"Normal weight\"\\n    elif b < 27:\\n        return \"Overweight\"\\n    elif b < 30:\\n        return \"Obesity I\"\\n    elif b < 35:\\n        return \"Obesity II\"\\n    else:\\n        return \"Obesity III\"\\nheight:int = int(input(\"Enter your height in cm: \"))\\nweight:int = int(input(\"Enter your weight in kg: \"))\\n\\nbmi = cauculate_bmi(height, weight)\\nprint(bmi)\\nprint(get_state(bmi))\\n# BMI Categories',\n",
       "  'vars()'],\n",
       " 'Out': {},\n",
       " 'get_ipython': <bound method InteractiveShell.get_ipython of <ipykernel.zmqshell.ZMQInteractiveShell object at 0x000001B3271F41C0>>,\n",
       " 'exit': <IPython.core.autocall.ZMQExitAutocall at 0x1b3271f4c70>,\n",
       " 'quit': <IPython.core.autocall.ZMQExitAutocall at 0x1b3271f4c70>,\n",
       " 'open': <function io.open(file, mode='r', buffering=-1, encoding=None, errors=None, newline=None, closefd=True, opener=None)>,\n",
       " '_': '',\n",
       " '__': '',\n",
       " '___': '',\n",
       " '__vsc_ipynb_file__': 'c:\\\\Users\\\\USER\\\\OneDrive\\\\文件\\\\github\\\\_PythonBigData_Class\\\\lesson7\\\\lesson7_1.ipynb',\n",
       " '_i': 'def cauculate_bmi(h:int, w:int)->float:\\n    return w / ((h / 100) ** 2)\\n# BMI Calculator\\n# This program calculates the Body Mass Index (BMI) based on user input for height and weight.\\ndef get_state(b:float)->str:\\n    if b < 18.5:\\n        return \"Underweight\"\\n    elif b < 24:\\n        return \"Normal weight\"\\n    elif b < 27:\\n        return \"Overweight\"\\n    elif b < 30:\\n        return \"Obesity I\"\\n    elif b < 35:\\n        return \"Obesity II\"\\n    else:\\n        return \"Obesity III\"\\nheight:int = int(input(\"Enter your height in cm: \"))\\nweight:int = int(input(\"Enter your weight in kg: \"))\\n\\nbmi = cauculate_bmi(height, weight)\\nprint(bmi)\\nprint(get_state(bmi))\\n# BMI Categories',\n",
       " '_ii': '',\n",
       " '_iii': '',\n",
       " '_i1': 'def cauculate_bmi(h:int, w:int)->float:\\n    return w / ((h / 100) ** 2)\\n# BMI Calculator\\n# This program calculates the Body Mass Index (BMI) based on user input for height and weight.\\ndef get_state(b:float)->str:\\n    if b < 18.5:\\n        return \"Underweight\"\\n    elif b < 24:\\n        return \"Normal weight\"\\n    elif b < 27:\\n        return \"Overweight\"\\n    elif b < 30:\\n        return \"Obesity I\"\\n    elif b < 35:\\n        return \"Obesity II\"\\n    else:\\n        return \"Obesity III\"\\nheight:int = int(input(\"Enter your height in cm: \"))\\nweight:int = int(input(\"Enter your weight in kg: \"))\\n\\nbmi = cauculate_bmi(height, weight)\\nprint(bmi)\\nprint(get_state(bmi))\\n# BMI Categories',\n",
       " 'cauculate_bmi': <function __main__.cauculate_bmi(h: int, w: int) -> float>,\n",
       " 'get_state': <function __main__.get_state(b: float) -> str>,\n",
       " '__annotations__': {'height': int, 'weight': int},\n",
       " 'height': 187,\n",
       " 'weight': 67,\n",
       " 'bmi': 19.159827275586945,\n",
       " '_i2': 'vars()'}"
      ]
     },
     "execution_count": 2,
     "metadata": {},
     "output_type": "execute_result"
    }
   ],
   "source": [
    "vars()"
   ]
  }
 ],
 "metadata": {
  "kernelspec": {
   "display_name": "myenv",
   "language": "python",
   "name": "python3"
  },
  "language_info": {
   "codemirror_mode": {
    "name": "ipython",
    "version": 3
   },
   "file_extension": ".py",
   "mimetype": "text/x-python",
   "name": "python",
   "nbconvert_exporter": "python",
   "pygments_lexer": "ipython3",
   "version": "3.10.16"
  }
 },
 "nbformat": 4,
 "nbformat_minor": 5
}
