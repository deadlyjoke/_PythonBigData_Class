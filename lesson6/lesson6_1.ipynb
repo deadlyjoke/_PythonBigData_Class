{
 "cells": [
  {
   "cell_type": "markdown",
   "id": "21cd745a",
   "metadata": {},
   "source": [
    "#結構化專案程式\n",
    "- function"
   ]
  },
  {
   "cell_type": "code",
   "execution_count": 1,
   "id": "afd42472",
   "metadata": {},
   "outputs": [
    {
     "name": "stdout",
     "output_type": "stream",
     "text": [
      "Hello! Fection!\n"
     ]
    }
   ],
   "source": [
    "print(\"Hello! Fection!\")"
   ]
  },
  {
   "cell_type": "code",
   "execution_count": 1,
   "id": "e97d03d0",
   "metadata": {},
   "outputs": [
    {
     "name": "stdout",
     "output_type": "stream",
     "text": [
      "Hello! Second\n",
      "Hello! Third\n"
     ]
    }
   ],
   "source": [
    "print(\"Hello! Second\")\n",
    "print(\"Hello! Third\")"
   ]
  }
 ],
 "metadata": {
  "kernelspec": {
   "display_name": "myenv",
   "language": "python",
   "name": "python3"
  },
  "language_info": {
   "codemirror_mode": {
    "name": "ipython",
    "version": 3
   },
   "file_extension": ".py",
   "mimetype": "text/x-python",
   "name": "python",
   "nbconvert_exporter": "python",
   "pygments_lexer": "ipython3",
   "version": "3.10.16"
  }
 },
 "nbformat": 4,
 "nbformat_minor": 5
}
