{
  "nbformat": 4,
  "nbformat_minor": 0,
  "metadata": {
    "colab": {
      "provenance": [],
      "authorship_tag": "ABX9TyN7rdmG9NY9tTBCL+Txlu3+",
      "include_colab_link": true
    },
    "kernelspec": {
      "name": "python3",
      "display_name": "Python 3"
    },
    "language_info": {
      "name": "python"
    }
  },
  "cells": [
    {
      "cell_type": "markdown",
      "metadata": {
        "id": "view-in-github",
        "colab_type": "text"
      },
      "source": [
        "<a href=\"https://colab.research.google.com/github/deadlyjoke/_PythonBigData_Class/blob/main/lesson4/lesson4_2.ipynb\" target=\"_parent\"><img src=\"https://colab.research.google.com/assets/colab-badge.svg\" alt=\"Open In Colab\"/></a>"
      ]
    },
    {
      "cell_type": "markdown",
      "source": [
        "python while迴圈說明\n",
        "___\n",
        "Python 的 while 迴圈用來根據條件判斷，重複執行某段程式碼，直到條件不成立為止。其基本語法如下：\n",
        "\n",
        "######while 條件:\n",
        "       程式區塊\n",
        "\n",
        "• 當條件為 True 時，會執行縮排的程式區塊。\n",
        "\n",
        "• 每次執行完程式區塊後，會再次檢查條件，若仍為 True，則繼續執行迴圈。\n",
        "\n",
        "• 當條件變為 False，迴圈結束，程式往下繼續執行。"
      ],
      "metadata": {
        "id": "AF20gsiMDE7E"
      }
    },
    {
      "cell_type": "code",
      "execution_count": null,
      "metadata": {
        "id": "BMSuIOnB8L-C",
        "outputId": "5658c85d-b454-4042-ee1d-e94910ea973f",
        "colab": {
          "base_uri": "https://localhost:8080/"
        }
      },
      "outputs": [
        {
          "output_type": "stream",
          "name": "stdout",
          "text": [
            "1\n",
            "2\n",
            "3\n",
            "4\n",
            "5\n"
          ]
        }
      ],
      "source": [
        "count=1\n",
        "while count<= 5:\n",
        "   print(count)\n",
        "   count+=1"
      ]
    },
    {
      "cell_type": "code",
      "source": [
        "total=0\n",
        "while True:\n",
        "   num =int(input(\"Please inter a number(Until the number 0 ends):\"))\n",
        "   if num ==0:\n",
        "     break\n",
        "   total+=num\n",
        "print(\"The total is:\",total)"
      ],
      "metadata": {
        "id": "Fa2IPH2uEByn",
        "outputId": "0cd05f4f-b688-4ba2-de78-cde3decc0088",
        "colab": {
          "base_uri": "https://localhost:8080/"
        }
      },
      "execution_count": null,
      "outputs": [
        {
          "output_type": "stream",
          "name": "stdout",
          "text": [
            "Please inter a number(Until the number 0 ends):9\n",
            "Please inter a number(Until the number 0 ends):10\n",
            "Please inter a number(Until the number 0 ends):3\n",
            "Please inter a number(Until the number 0 ends):24\n",
            "Please inter a number(Until the number 0 ends):37\n",
            "Please inter a number(Until the number 0 ends):0\n",
            "The total is: 83\n"
          ]
        }
      ]
    },
    {
      "cell_type": "markdown",
      "source": [
        "####字串差補"
      ],
      "metadata": {
        "id": "CuGQBrfHQAPo"
      }
    },
    {
      "cell_type": "code",
      "source": [
        "orange = 3\n",
        "apple = 5\n",
        "\"您有orange\"+str(orange)+\"個,和apple\"+str(apple)+\"個\""
      ],
      "metadata": {
        "id": "U4hJEAKAQDjZ",
        "outputId": "101cfde8-e9ff-4550-ff36-e6d528f81f82",
        "colab": {
          "base_uri": "https://localhost:8080/",
          "height": 35
        }
      },
      "execution_count": 5,
      "outputs": [
        {
          "output_type": "execute_result",
          "data": {
            "text/plain": [
              "'您有orange3個,和apple5個'"
            ],
            "application/vnd.google.colaboratory.intrinsic+json": {
              "type": "string"
            }
          },
          "metadata": {},
          "execution_count": 5
        }
      ]
    },
    {
      "cell_type": "code",
      "source": [
        "orange = 3\n",
        "apple = 5\n",
        "f\"您有orange{orange}個，和apple{apple}個\""
      ],
      "metadata": {
        "id": "P4_NbIpJQnPE",
        "outputId": "47354d19-f6ee-429e-a9fd-fff8ac21a769",
        "colab": {
          "base_uri": "https://localhost:8080/",
          "height": 35
        }
      },
      "execution_count": 6,
      "outputs": [
        {
          "output_type": "execute_result",
          "data": {
            "text/plain": [
              "'您有orange3個，和apple5個'"
            ],
            "application/vnd.google.colaboratory.intrinsic+json": {
              "type": "string"
            }
          },
          "metadata": {},
          "execution_count": 6
        }
      ]
    },
    {
      "cell_type": "markdown",
      "source": [
        "#python 取得亂數1~99"
      ],
      "metadata": {
        "id": "lti-7ZUgPw78"
      }
    },
    {
      "cell_type": "code",
      "source": [
        "import random\n",
        "#亂數\n",
        "min = 1\n",
        "max = 99\n",
        "count = 0\n",
        "random_number =random.randint(min,max)\n",
        "#print(random_number)\n",
        "print(\"=====Guess the number game begins=====\\n\\n\")\n",
        "while True:\n",
        "   input_number= input(f\"Please inter your number({min}~{max}):\")\n",
        "   count += 1\n",
        "   if(input_number == random_number):\n",
        "     print(f\"Bingo!Your right!, the answer is {input_number}\")\n",
        "     print(f\"You have tired:{count}number of times\")\n",
        "     break\n",
        "   elif(input_number ＞ random_number):\n",
        "     print(\"Your number is too big\")\n",
        "     max= input_number - 1\n",
        "   elif(input_number< random_number):\n",
        "     print(\"Your number is too small\")\n",
        "     min= input_number + 1\n",
        "print(f\"You have tired:{count}number of times\\n\")\n",
        ""
      ],
      "metadata": {
        "id": "vOontOjaP0YW",
        "outputId": "7b157031-d2f3-4a82-8068-27257e25a2a3",
        "colab": {
          "base_uri": "https://localhost:8080/",
          "height": 106
        }
      },
      "execution_count": 10,
      "outputs": [
        {
          "output_type": "error",
          "ename": "SyntaxError",
          "evalue": "invalid character '＞' (U+FF1E) (<ipython-input-10-c70265a2054e>, line 16)",
          "traceback": [
            "\u001b[0;36m  File \u001b[0;32m\"<ipython-input-10-c70265a2054e>\"\u001b[0;36m, line \u001b[0;32m16\u001b[0m\n\u001b[0;31m    elif(input_number ＞ random_number):\u001b[0m\n\u001b[0m                      ^\u001b[0m\n\u001b[0;31mSyntaxError\u001b[0m\u001b[0;31m:\u001b[0m invalid character '＞' (U+FF1E)\n"
          ]
        }
      ]
    }
  ]
}