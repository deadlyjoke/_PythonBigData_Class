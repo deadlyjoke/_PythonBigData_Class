{
  "nbformat": 4,
  "nbformat_minor": 0,
  "metadata": {
    "colab": {
      "provenance": [],
      "authorship_tag": "ABX9TyOHldNSXhzwoexe6g8Ew1Qy",
      "include_colab_link": true
    },
    "kernelspec": {
      "name": "python3",
      "display_name": "Python 3"
    },
    "language_info": {
      "name": "python"
    }
  },
  "cells": [
    {
      "cell_type": "markdown",
      "metadata": {
        "id": "view-in-github",
        "colab_type": "text"
      },
      "source": [
        "<a href=\"https://colab.research.google.com/github/deadlyjoke/_PythonBigData_Class/blob/main/lesson4/lesson4_2.ipynb\" target=\"_parent\"><img src=\"https://colab.research.google.com/assets/colab-badge.svg\" alt=\"Open In Colab\"/></a>"
      ]
    },
    {
      "cell_type": "markdown",
      "source": [
        "python while迴圈說明\n",
        "___\n",
        "Python 的 while 迴圈用來根據條件判斷，重複執行某段程式碼，直到條件不成立為止。其基本語法如下：\n",
        "\n",
        "######while 條件:\n",
        "       程式區塊\n",
        "\n",
        "• 當條件為 True 時，會執行縮排的程式區塊。\n",
        "\n",
        "• 每次執行完程式區塊後，會再次檢查條件，若仍為 True，則繼續執行迴圈。\n",
        "\n",
        "• 當條件變為 False，迴圈結束，程式往下繼續執行。"
      ],
      "metadata": {
        "id": "AF20gsiMDE7E"
      }
    },
    {
      "cell_type": "code",
      "execution_count": 3,
      "metadata": {
        "id": "BMSuIOnB8L-C",
        "outputId": "5658c85d-b454-4042-ee1d-e94910ea973f",
        "colab": {
          "base_uri": "https://localhost:8080/"
        }
      },
      "outputs": [
        {
          "output_type": "stream",
          "name": "stdout",
          "text": [
            "1\n",
            "2\n",
            "3\n",
            "4\n",
            "5\n"
          ]
        }
      ],
      "source": [
        "count=1\n",
        "while count<= 5:\n",
        "   print(count)\n",
        "   count+=1"
      ]
    },
    {
      "cell_type": "code",
      "source": [
        "total=0\n",
        "while True:\n",
        "   num =int(input(\"Please inter a number(Until the number 0 ends):\"))\n",
        "   if num ==0:\n",
        "     break\n",
        "   total+=num\n",
        "print(\"The total is:\",total)"
      ],
      "metadata": {
        "id": "Fa2IPH2uEByn",
        "outputId": "0cd05f4f-b688-4ba2-de78-cde3decc0088",
        "colab": {
          "base_uri": "https://localhost:8080/"
        }
      },
      "execution_count": 4,
      "outputs": [
        {
          "output_type": "stream",
          "name": "stdout",
          "text": [
            "Please inter a number(Until the number 0 ends):9\n",
            "Please inter a number(Until the number 0 ends):10\n",
            "Please inter a number(Until the number 0 ends):3\n",
            "Please inter a number(Until the number 0 ends):24\n",
            "Please inter a number(Until the number 0 ends):37\n",
            "Please inter a number(Until the number 0 ends):0\n",
            "The total is: 83\n"
          ]
        }
      ]
    }
  ]
}